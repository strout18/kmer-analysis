{
 "cells": [
  {
   "cell_type": "code",
   "execution_count": null,
   "metadata": {
    "collapsed": true
   },
   "outputs": [],
   "source": [
    "#NOTES: UPDATE LISTMOSTFREQ SO WRITING TO A FILE IS OPTIONAL\n",
    "#UPDATE PLOTLY SO IT EITHER PRINTS INLINE IN THE RUNNING NOTEBOOK OR OPENS URL TO NEW GRAPH\n",
    "#COPY OVER PYTHON SCRIPT THAT'S ACTUALLY BEING RUN"
   ]
  },
  {
   "cell_type": "code",
   "execution_count": null,
   "metadata": {
    "collapsed": true
   },
   "outputs": [],
   "source": [
    "import re\n",
    "import plotly.plotly as py\n",
    "import plotly.graph_objs as go\n",
    "import plotly\n",
    "import random"
   ]
  },
  {
   "cell_type": "code",
   "execution_count": null,
   "metadata": {
    "collapsed": false
   },
   "outputs": [],
   "source": [
    "#READING FILES\n",
    "def trim(untrimmedfasta, trimmedout): #trims FASTA file saved as a .txt by removing chr data and making all nucleotides capitalized\n",
    "    with open(untrimmedfasta) as f:\n",
    "        with open(trimmedout, 'w') as f1:\n",
    "            for line in f:\n",
    "                if line[0] != '>':\n",
    "                    f1.write(line.upper())\n",
    "            f1.close()\n",
    "            f.close()"
   ]
  },
  {
   "cell_type": "code",
   "execution_count": 3,
   "metadata": {
    "collapsed": false
   },
   "outputs": [
    {
     "name": "stdout",
     "output_type": "stream",
     "text": [
      "Finished!\n"
     ]
    }
   ],
   "source": [
    "#kmerdict = EMPTY dict \n",
    "def freq_compile_from_file(kmerdict, trimmedfasta, length):\n",
    "#COMPILING DICTIONARY\n",
    "    with open(trimmedfasta) as f:\n",
    "        for line in f: #one line corresponds to one sequence at that chromosome location\n",
    "            for i in range(0, len(line) - length):\n",
    "                kmer = line[i:i+length] #makes k-mer out of next k letters\n",
    "                if kmer not in kmerdict:\n",
    "                    kmerdict[kmer] = 1\n",
    "                else:\n",
    "                    kmerdict[kmer] += 1\n",
    "        f.close()\n",
    "    print (\"Finished!\")"
   ]
  },
  {
   "cell_type": "code",
   "execution_count": null,
   "metadata": {
    "collapsed": true
   },
   "outputs": [],
   "source": [
    "def freq_compile_from_string(kmerdict, string, length):\n",
    "    for i in range(0, len(string) - length):\n",
    "        kmer = string[i:i+length]\n",
    "        if 'N' not in kmer.upper():\n",
    "            if kmer not in kmerdict:\n",
    "                kmerdict[kmer] = 1\n",
    "            else:\n",
    "                kmerdict[kmer] += 1\n",
    "    #    print (\"Finished!\")"
   ]
  },
  {
   "cell_type": "code",
   "execution_count": null,
   "metadata": {
    "collapsed": false,
    "scrolled": true
   },
   "source": [
    "#SORTING \n",
    "def fsortbycount(kdict): #compiles a sorted list (tuple) of all k-mers with highest count\n",
    "    sortbycount = sorted(kdict.items(), key = lambda x: x[1], reverse = True)\n",
    "    return sortbycount\n",
    "def listall(sortedlst): #list all k-mers found\n",
    "    for x in sortedlst:\n",
    "        print (x[0], ':', str(x[1]))\n",
    "def listmostfreq(sortedlst, cutoff, write_file, fmostfreq = ''): #cutoff is number of kmers to display - e.g. top 25 means cutoff = 25\n",
    "    #sortedlst = lst, cutoff = int, write_file = bool, fmostfreq = optional string corresponding to a file\n",
    "    i = 0\n",
    "    if write_file:\n",
    "        with open(fmostfreq, 'w') as f:\n",
    "            while i< cutoff:\n",
    "                print (sortedlst[i][0], ':', str(sortedlst[i][1]))\n",
    "                f.write(sortedlst[i][0])\n",
    "                if i!= cutoff - 1:\n",
    "                    f.write('\\n')\n",
    "                i += 1\n",
    "            f.close()\n",
    "    else:\n",
    "        while i< cutoff:\n",
    "                print (sortedlst[i][0], ':', str(sortedlst[i][1]))\n",
    "                i += 1"
   ]
  },
  {
   "cell_type": "code",
   "execution_count": null,
   "metadata": {
    "collapsed": false
   },
   
   "source": [
    "#PARAMS: SORTED LIST OF KMERS, FREQ DICT, MOTIF, KMER LENGTH\n",
    "def motif_analysis(sortedlst, kdict, motif, kmerlength): \n",
    "    sums = 0\n",
    "    length = 0\n",
    "    motif_kmers = []\n",
    "    for i in range(0, len(motif)-kmerlength):\n",
    "        kmer = ''\n",
    "        for j in range(i, i + kmerlength):\n",
    "            kmer = kmer + motif[j] #creates regular expression for k-mer from motif\n",
    "        poss_kmers = [x[0] for x in sortedlst if re.search(kmer, x[0])] #loops thru list, finds k-mers that satisfy regex\n",
    "        print (kmer)\n",
    "        for x in poss_kmers:\n",
    "            print (x, ':', kdict[x])\n",
    "            sums += kdict[x]\n",
    "            length += 1\n",
    "            motif_kmers.append(x)\n",
    "        print()\n",
    "    print ('Mean:', sums/length) #prints mean frequency of nfkb kmers\n",
    "    sorted_motif_kmers = sorted(motif_kmers, key = lambda x:kdict[x], reverse = True)\n",
    "    return sorted_motif_kmers"
   ]
  },
  {
   "cell_type": "code",
   "execution_count": null,
   "metadata": {
    "collapsed": false
   },
   "outputs": [],
   "source": [
    "#PLOTLY\n",
    "def plotwithmotiflines(sortedall, sorted_motif, kdict, graphtitle, url, gmode = 'lines'):\n",
    "    names = [x[0] for x in sortedall] #plots kmer vs frequency\n",
    "    values = [x[1] for x in sortedall]\n",
    "    annlst = []\n",
    "    shapelst = []\n",
    "    count = 1\n",
    "    for x in sorted_motif: #creates dotted line and label for nfkb kmers\n",
    "        anndict = {}\n",
    "        shapedict = {}\n",
    "        anndict['x'] = x\n",
    "        anndict['text'] = x\n",
    "        anndict['showarrow'] = False \n",
    "        shapedict['type'] = 'line'\n",
    "        shapedict['x0'] = x\n",
    "        shapedict['x1'] = x\n",
    "        shapedict['y0'] = int(kdict[x])\n",
    "        shapedict['line'] = {\n",
    "            'color': \"#ff9400\",\n",
    "            'dash': \"dash\"\n",
    "        }\n",
    "        if count == 1: #positions line and label\n",
    "            shapedict['y1'], anndict['y'] = 34500, 35000\n",
    "        elif count == 2:\n",
    "            shapedict['y1'], anndict['y'] = 1000, 700\n",
    "        elif count ==3:\n",
    "            shapedict['y1'], anndict['y'] = 29500, 30000\n",
    "        elif count ==4:\n",
    "            shapedict['y1'], anndict['y'] = 3000, 2500\n",
    "        elif count == 5:\n",
    "            shapedict['y1'], anndict['y'] = 24500, 25000\n",
    "        else:\n",
    "            shapedict['y1'], anndict['y'] = 5500, 5000\n",
    "            count = 0\n",
    "        count +=1\n",
    "        annlst.append(anndict)\n",
    "        shapelst.append(shapedict)\n",
    "\n",
    "\n",
    "    plotly.tools.set_credentials_file(username='StellaTrout', api_key='sygEgpmtf2kyR8TYxVFV')\n",
    "\n",
    "    trace0 = go.Scatter(\n",
    "        x= names,\n",
    "        y= values,\n",
    "        mode = gmode\n",
    "    )\n",
    "    trace1 = go.Scatter( #plots motif kmers in different color than other points\n",
    "        x = [x for x in sorted_motif],\n",
    "        y = [kdict[x] for x in sorted_motif],\n",
    "        mode = \"markers\",\n",
    "        marker = {'color': \"ff3d74\"}\n",
    "    )\n",
    "    data = [trace0, trace1]\n",
    "    layout = go.Layout( #formats axes\n",
    "        xaxis = dict(\n",
    "            showticklabels = False,\n",
    "            title = \"K-Mers\"\n",
    "        ),\n",
    "        yaxis = dict(\n",
    "            title = \"Frequencies\"\n",
    "        ),\n",
    "        title = graphtitle,\n",
    "        annotations = annlst,\n",
    "        shapes = shapelst\n",
    "    )\n",
    "    fig = go.Figure(data=data, layout=layout)\n",
    "    py.iplot(fig, filename = url)"
   ]
  },
  {
   "cell_type": "code",
   "execution_count": null,
   "metadata": {
    "collapsed": false
   },
   "source": [
    "#PLOTLY\n",
    "def plotwithmotif(sortedall, sorted_motif, kdict, graphtitle, url, gmode = 'lines'):\n",
    "    names = [x[0] for x in sortedall] #plots kmer vs frequency\n",
    "    values = [x[1] for x in sortedall]\n",
    "\n",
    "    trace0 = go.Scatter(\n",
    "        x= names,\n",
    "        y= values,\n",
    "        mode = gmode\n",
    "    )\n",
    "    trace1 = go.Scatter( #plots nfkb kmers in different color than other points\n",
    "        x = [x for x in sorted_motif],\n",
    "        y = [kdict[x] for x in sorted_motif],\n",
    "        mode = \"markers\",\n",
    "        marker = {'color': \"ff3d74\"}\n",
    "    )\n",
    "    data = [trace0, trace1]\n",
    "    layout = go.Layout( #formats axes\n",
    "        xaxis = dict(\n",
    "            showticklabels = False,\n",
    "            title = \"K-Mers\"\n",
    "        ),\n",
    "        yaxis = dict(\n",
    "            title = \"Frequencies\"\n",
    "        ),\n",
    "        title = graphtitle\n",
    "    )\n",
    "    fig = go.Figure(data=data, layout=layout)\n",
    "    py.iplot(fig, filename = url)"
   ]
  },
  {
   "cell_type": "code",
   "execution_count": null,
   "metadata": {
    "collapsed": true
   },
   "outputs": [],
   "source": [
    "#PLOTLY\n",
    "def plotbasic(sortedall, graphtitle, url, gmode = 'lines'):\n",
    "    names = [x[0] for x in sortedall] #plots kmer vs frequency\n",
    "    values = [x[1] for x in sortedall]\n",
    "    trace0 = go.Scatter(\n",
    "        x= names,\n",
    "        y= values,\n",
    "        mode = gmode\n",
    "    )\n",
    "    data = [trace0]\n",
    "    layout = go.Layout( #formats axes\n",
    "        xaxis = dict(\n",
    "            showticklabels = False,\n",
    "            title = \"K-Mers\"\n",
    "        ),\n",
    "        yaxis = dict(\n",
    "            title = \"Frequencies\"\n",
    "        ),\n",
    "        title = graphtitle\n",
    "    )\n",
    "    fig = go.Figure(data=data, layout=layout)\n",
    "    py.iplot(fig, filename = url)"
   ]
  },
  {
   "cell_type": "code",
   "execution_count": null,
   "metadata": {
    "collapsed": true
   },
   "outputs": [],
   "source": [
    "def filerandseq(trimmedfasta, shuffledfile, dinucshuff, timestoshuffle):\n",
    "    def dinucl(lst):\n",
    "        i = 0\n",
    "        dlst = []\n",
    "        while i< len(lst):\n",
    "            dlst.append(lst[i] + lst[i + 1]) #combines element with element after it\n",
    "            i += 2\n",
    "        return dlst\n",
    "\n",
    "    def shuffleACopy(x):\n",
    "            b = x[:] # make a copy of the keys\n",
    "            random.shuffle(b) # shuffle the copy\n",
    "            return b\n",
    "    with open(trimmedfasta) as f:\n",
    "        with open(shuffledfile, 'w') as f1:\n",
    "            for line in f:\n",
    "                temp = list(line[0:len(line)- 1])\n",
    "                if dinucshuff:\n",
    "                    dinucl_temp = dinucl(temp) #makes a list of nucleotide pairs\n",
    "                    shuffled_kmers = shuffleACopy(dinucl_temp)    \n",
    "                else:\n",
    "                    shuffled_kmers = shuffleACopy(temp)\n",
    "                for i in range(0, timestoshuffle):\n",
    "                    shuffled_kmers = shuffleACopy(shuffled_kmers)\n",
    "                shuffled_kmers.append('\\n')\n",
    "                f1.write(''.join(shuffled_kmers))\n",
    "            f1.close()\n",
    "            f.close()"
   ]
  },
  {
   "cell_type": "code",
   "execution_count": null,
   "metadata": {
    "collapsed": true
   },
   "outputs": [],
   "source": [
    "def stringrandseq(string, dinucshuff, timestoshuffle):\n",
    "    def dinucl(lst):\n",
    "        i = 0\n",
    "        dlst = []\n",
    "        while i< len(lst):\n",
    "            dlst.append(lst[i] + lst[i + 1]) #combines element with element after it\n",
    "            i += 2\n",
    "        return dlst\n",
    "\n",
    "    def shuffleACopy(x):\n",
    "            b = x[:] # make a copy of the keys\n",
    "            random.shuffle(b) # shuffle the copy\n",
    "            return b\n",
    "    temp = list(line[0:len(line)- 1])\n",
    "    if dinucshuff:\n",
    "        dinucl_temp = dinucl(temp) #makes a list of nucleotide pairs\n",
    "        shuffled_kmers = shuffleACopy(dinucl_temp)    \n",
    "    else:\n",
    "        shuffled_kmers = shuffleACopy(temp)\n",
    "    for i in range(0, timestoshuffle):\n",
    "        shuffled_kmers = shuffleACopy(shuffled_kmers)\n",
    "    shuffled_kmers_str = ''.join(shuffled_kmers)\n",
    "    return shuffled_kmers_str"
   ]
  },
  {
   "cell_type": "code",
   "execution_count": null,
   "metadata": {
    "collapsed": false
   },
   
   "source": [
    "#COMPILE DATA ON KMERS FROM RANDOM FILE\n",
    "def filerandseq_basicanalysis(shuffledfile, randdict):\n",
    "    with open(shuffledfile) as f:\n",
    "        for line in f: #one line corresponds to one sequence at that chromosome location\n",
    "            for i in range(0, len(line) - 5):\n",
    "                randseq_kmer = line[i:i+5] #makes 5-mer out of next five letters\n",
    "                if randseq_kmer not in randdict:\n",
    "                    randdict[randseq_kmer] = 1\n",
    "                else:\n",
    "                    randdict[randseq_kmer] += 1\n",
    "        f.close()\n",
    "    print (\"Finished!\")\n",
    "    randseq_sortedlst = fsortbycount(randdict) #sorts rand kmers by frequency\n",
    "    return randseq_sortedlst\n",
    "def randseq_motifanalysis(randsortedlst, kdict, motif, kmerlength):\n",
    "    randseq_motif_sorted = motif_analysis(randsortedlst, kdict, motif, kmerlength)\n",
    "    return randseq_motif_sorted"
   ]
  },
  {
   "cell_type": "code",
   "execution_count": null,
   "metadata": {
    "collapsed": true
   },
   "outputs": [],
   "source": [
    "#COMPILE DATA ON KMERS FROM RANDOM FILE\n",
    "def stringrandseq_basicanalysis(randdict, string, length):\n",
    "    for i in range(0, len(string) - length):\n",
    "        randseq_kmer = line[i:i+length] #makes 5-mer out of next five letters\n",
    "        if randseq_kmer not in randdict:\n",
    "            randdict[randseq_kmer] = 1\n",
    "        else:\n",
    "            randdict[randseq_kmer] += 1\n",
    "    print (\"Finished!\")\n",
    "    randseq_sortedlst = fsortbycount(randseq_kmerdict) #sorts rand kmers by frequency\n",
    "    return randseq_sortedlst"
   ]
  }
 ],
 "metadata": {
  "anaconda-cloud": {},
  "kernelspec": {
   "display_name": "Python [conda env:bioPython]",
   "language": "python",
   "name": "conda-env-bioPython-py"
  },
  "language_info": {
   "codemirror_mode": {
    "name": "ipython",
    "version": 3
   },
   "file_extension": ".py",
   "mimetype": "text/x-python",
   "name": "python",
   "nbconvert_exporter": "python",
   "pygments_lexer": "ipython3",
   "version": "3.5.2"
  }
 },
 "nbformat": 4,
 "nbformat_minor": 1
}
